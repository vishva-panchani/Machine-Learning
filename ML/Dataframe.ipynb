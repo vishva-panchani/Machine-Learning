{
 "cells": [
  {
   "cell_type": "markdown",
   "id": "f97227d5-197b-407d-854b-1625d5d69d3a",
   "metadata": {},
   "source": [
    "# Size of dataframe"
   ]
  },
  {
   "cell_type": "code",
   "execution_count": 1,
   "id": "940dcf6f-036f-452d-92d5-94aaefcba400",
   "metadata": {},
   "outputs": [
    {
     "name": "stdout",
     "output_type": "stream",
     "text": [
      "    YearofStudy                    Course   Age      SitKCSE  ApproxWeight  \\\n",
      "0   Second Year               MATHEMATICS  20.0     Central             80   \n",
      "1    First Year  ECONOMICS AND STATISTICS   NaN  Rift Valley            79   \n",
      "2   Fourth Year               MATHEMATICS   NaN      Western            64   \n",
      "3   Second Year  ECONOMICS AND STATISTICS   NaN        Coast            52   \n",
      "4    Third Year       APPLIED MATHEMATICS  20.0     Central             52   \n",
      "5    Third Year            URBAN PLANNING  20.0     Central             56   \n",
      "6    Third Year               MATHEMATICS  21.0  Rift Valley            79   \n",
      "7    Third Year               MATHEMATICS  21.0       Nyanza            57   \n",
      "8   Fourth Year         ACTUARIAL SCIENCE  22.0       Nyanza            53   \n",
      "9   Fourth Year                 ECONOMICS  21.0  Rift Valley            57   \n",
      "10   Third Year               MATHEMATICS  22.0        Coast            78   \n",
      "11  Second Year               MATHEMATICS  22.0          NaN            60   \n",
      "12  Fourth Year               MATHEMATICS  23.0          NaN            66   \n",
      "13   Third Year       APPLIED MATHEMATICS  20.0     Central             52   \n",
      "14  Second Year  ECONOMICS AND STATISTICS  34.0     Eastern             80   \n",
      "15   Third Year                STATISTICS  20.0     Central             54   \n",
      "16   Third Year  ECONOMICS AND STATISTICS  21.0      Nairobi            45   \n",
      "17   Third Year       APPLIED MATHEMATICS  20.0     Central             52   \n",
      "18   Third Year                STATISTICS   NaN     Central             52   \n",
      "19  Second Year                STATISTICS  21.0      Nairobi            65   \n",
      "20  Second Year         ACTUARIAL SCIENCE  20.0     Central             50   \n",
      "21   Third Year               MATHEMATICS  20.0       Nyanza            45   \n",
      "22  Second Year         ACTUARIAL SCIENCE  20.0     Central             50   \n",
      "23   Third Year    ELECTRICAL ENGINEERING  21.0      Nairobi            59   \n",
      "24  Second Year               MATHEMATICS  21.0       Nyanza            54   \n",
      "25   First Year                STATISTICS  18.0  Rift Valley            57   \n",
      "26  Fourth Year               MATHEMATICS  23.0     Eastern             72   \n",
      "27  Fourth Year               MATHEMATICS  24.0  Rift Valley            56   \n",
      "28   Third Year  ECONOMICS AND STATISTICS  22.0        Coast            58   \n",
      "29   Third Year               MATHEMATICS  21.0  Rift Valley            79   \n",
      "30  Fourth Year               MATHEMATICS  24.0  Rift Valley            56   \n",
      "31   Third Year                STATISTICS   NaN     Central             52   \n",
      "32   Third Year               MATHEMATICS  20.0       Nyanza            45   \n",
      "\n",
      "    KCSE  Expense_Accommodation  \n",
      "0   2016                    NaN  \n",
      "1   2010                    NaN  \n",
      "2   2015                    NaN  \n",
      "3   2016                18795.0  \n",
      "4   2016                28958.0  \n",
      "5   2016                41028.0  \n",
      "6   2016                44024.0  \n",
      "7   2016                36925.0  \n",
      "8   2015                27034.0  \n",
      "9   2015                26059.0  \n",
      "10  2016                39242.0  \n",
      "11  2015                37578.0  \n",
      "12  2015                21501.0  \n",
      "13  2016                28958.0  \n",
      "14  2012                39019.0  \n",
      "15  2016                35910.0  \n",
      "16  2016                 9384.0  \n",
      "17  2016                28958.0  \n",
      "18  2016                48476.0  \n",
      "19  2018                20195.0  \n",
      "20  2017                33816.0  \n",
      "21  2016                38983.0  \n",
      "22  2017                33816.0  \n",
      "23  2016                18675.0  \n",
      "24  2016                34661.0  \n",
      "25  2014                 9154.0  \n",
      "26  2015                14681.0  \n",
      "27  2015                25285.0  \n",
      "28  2016                24280.0  \n",
      "29  2089                44024.0  \n",
      "30  2015                25285.0  \n",
      "31  2016                48476.0  \n",
      "32  2016                38983.0  \n",
      "size of dataframe:--- 231\n"
     ]
    }
   ],
   "source": [
    "import pandas as pd\n",
    "df=pd.read_csv(\"students_data.csv\")\n",
    "print(df)\n",
    "#size:\n",
    "print(\"size of dataframe:---\",df.size)"
   ]
  },
  {
   "cell_type": "markdown",
   "id": "e4037407-58e0-497c-9c47-6cbe7e102a9f",
   "metadata": {},
   "source": [
    "# Column Name:-"
   ]
  },
  {
   "cell_type": "code",
   "execution_count": 2,
   "id": "5e332605-93bc-4d4f-8f55-6b17cd8bb30f",
   "metadata": {},
   "outputs": [
    {
     "name": "stdout",
     "output_type": "stream",
     "text": [
      "Column name:-- Index(['YearofStudy', 'Course', 'Age', 'SitKCSE', 'ApproxWeight', 'KCSE',\n",
      "       'Expense_Accommodation'],\n",
      "      dtype='object')\n"
     ]
    }
   ],
   "source": [
    "import pandas as pd\n",
    "df=pd.read_csv(\"students_data.csv\")\n",
    "# print(df)\n",
    "#Column:\n",
    "print(\"Column name:--\",df.columns)"
   ]
  },
  {
   "cell_type": "markdown",
   "id": "16a9b08f-4eb3-460b-b5a8-85fe983c628b",
   "metadata": {},
   "source": [
    "# Shape Of dataframe:-"
   ]
  },
  {
   "cell_type": "code",
   "execution_count": 3,
   "id": "158003f4-11c8-4650-82e4-74570f66fac7",
   "metadata": {},
   "outputs": [
    {
     "name": "stdout",
     "output_type": "stream",
     "text": [
      "Shape of dataframe:-- (33, 7)\n"
     ]
    }
   ],
   "source": [
    "import pandas as pd\n",
    "df=pd.read_csv(\"students_data.csv\")\n",
    "#print(df)\n",
    "#shap\n",
    "print(\"Shape of dataframe:--\",df.shape)"
   ]
  },
  {
   "cell_type": "markdown",
   "id": "509ee83a-6d60-429e-a66f-757085b612df",
   "metadata": {},
   "source": [
    "# ndim on Dataframe\n"
   ]
  },
  {
   "cell_type": "code",
   "execution_count": null,
   "id": "1bb82559-5bb4-40df-933e-fc2aa91c3da6",
   "metadata": {},
   "outputs": [],
   "source": [
    "import pandas as pd\n",
    "df=pd.read_csv(\"students_data.csv\")\n",
    "#print(df)\n",
    "#ndim:-\n",
    "print(\"Ndim of Dataframe:--\",df.ndim)"
   ]
  },
  {
   "cell_type": "markdown",
   "id": "fc3fd484-76d2-4fc7-9db5-74aba5601e12",
   "metadata": {},
   "source": [
    "# Null Value Count:"
   ]
  },
  {
   "cell_type": "code",
   "execution_count": null,
   "id": "58b96807-0c36-47e9-a05e-29f1ab06351f",
   "metadata": {},
   "outputs": [],
   "source": [
    "import pandas as pd\n",
    "df=pd.read_csv(\"students_data.csv\")\n",
    "#print(df)\n",
    "print(\"Null value of dataframe:--\",df.isnull()\n",
    "print(\"Null value of dataframe:--\",df.isnull().sum())#null value Count"
   ]
  },
  {
   "cell_type": "markdown",
   "id": "0a7613ac-488f-4537-88d3-f02290c2c107",
   "metadata": {},
   "source": [
    "# drop row with Null Values:\n"
   ]
  },
  {
   "cell_type": "code",
   "execution_count": null,
   "id": "366ba797-d3c6-4c6e-b61b-ec335cddc538",
   "metadata": {},
   "outputs": [],
   "source": [
    "#drop row with Null Values\n",
    "# 0=row ,1=column\n",
    "import pandas as pd\n",
    "df=pd.read_csv(\"students_data.csv\")\n",
    "# print(df)\n",
    "df.dropna(axis=0,inplace=True)# 0=row ,1=column\n",
    "print(df)"
   ]
  },
  {
   "cell_type": "markdown",
   "id": "fd681859-60af-445a-b5da-29fd406ffa70",
   "metadata": {},
   "source": [
    "# drop column with Null Values\n"
   ]
  },
  {
   "cell_type": "code",
   "execution_count": 4,
   "id": "d036cf9a-e0cb-4b30-a207-a0c733dbca6f",
   "metadata": {},
   "outputs": [
    {
     "name": "stdout",
     "output_type": "stream",
     "text": [
      "    YearofStudy                    Course  ApproxWeight  KCSE\n",
      "0   Second Year               MATHEMATICS            80  2016\n",
      "1    First Year  ECONOMICS AND STATISTICS            79  2010\n",
      "2   Fourth Year               MATHEMATICS            64  2015\n",
      "3   Second Year  ECONOMICS AND STATISTICS            52  2016\n",
      "4    Third Year       APPLIED MATHEMATICS            52  2016\n",
      "5    Third Year            URBAN PLANNING            56  2016\n",
      "6    Third Year               MATHEMATICS            79  2016\n",
      "7    Third Year               MATHEMATICS            57  2016\n",
      "8   Fourth Year         ACTUARIAL SCIENCE            53  2015\n",
      "9   Fourth Year                 ECONOMICS            57  2015\n",
      "10   Third Year               MATHEMATICS            78  2016\n",
      "11  Second Year               MATHEMATICS            60  2015\n",
      "12  Fourth Year               MATHEMATICS            66  2015\n",
      "13   Third Year       APPLIED MATHEMATICS            52  2016\n",
      "14  Second Year  ECONOMICS AND STATISTICS            80  2012\n",
      "15   Third Year                STATISTICS            54  2016\n",
      "16   Third Year  ECONOMICS AND STATISTICS            45  2016\n",
      "17   Third Year       APPLIED MATHEMATICS            52  2016\n",
      "18   Third Year                STATISTICS            52  2016\n",
      "19  Second Year                STATISTICS            65  2018\n",
      "20  Second Year         ACTUARIAL SCIENCE            50  2017\n",
      "21   Third Year               MATHEMATICS            45  2016\n",
      "22  Second Year         ACTUARIAL SCIENCE            50  2017\n",
      "23   Third Year    ELECTRICAL ENGINEERING            59  2016\n",
      "24  Second Year               MATHEMATICS            54  2016\n",
      "25   First Year                STATISTICS            57  2014\n",
      "26  Fourth Year               MATHEMATICS            72  2015\n",
      "27  Fourth Year               MATHEMATICS            56  2015\n",
      "28   Third Year  ECONOMICS AND STATISTICS            58  2016\n",
      "29   Third Year               MATHEMATICS            79  2089\n",
      "30  Fourth Year               MATHEMATICS            56  2015\n",
      "31   Third Year                STATISTICS            52  2016\n",
      "32   Third Year               MATHEMATICS            45  2016\n"
     ]
    }
   ],
   "source": [
    "#drop column with Null Values\n",
    "import pandas as pd\n",
    "df=pd.read_csv(\"students_data.csv\")\n",
    "df.dropna(axis=1,inplace=True)\n",
    "print(df)\n"
   ]
  },
  {
   "cell_type": "markdown",
   "id": "705d2bd7-bb14-4778-9b13-9c6acb84f87f",
   "metadata": {},
   "source": [
    "# fillnaa values:-\n"
   ]
  },
  {
   "cell_type": "code",
   "execution_count": null,
   "id": "3b717958-cc94-499c-889e-c38b8189b474",
   "metadata": {},
   "outputs": [],
   "source": [
    " #fillnaa values\n",
    "import pandas as pd\n",
    "df=pd.read_csv(\"students_data.csv\")\n",
    "df.fillna(\"Vishva123\",inplace=True)\n",
    "print(df)"
   ]
  },
  {
   "cell_type": "markdown",
   "id": "a02d5382-fa4c-47dd-b252-9b37b66edb5f",
   "metadata": {},
   "source": [
    "# drop Column"
   ]
  },
  {
   "cell_type": "code",
   "execution_count": null,
   "id": "4101e3b8-2926-43eb-9915-3bbaa2ddbc8f",
   "metadata": {},
   "outputs": [],
   "source": [
    "#drop Column:-\n",
    "import pandas as pd\n",
    "df=pd.read_csv(\"students_data.csv\")\n",
    "ndf=df.drop('ApproxWeight',axis=1)\n",
    "print(ndf)"
   ]
  },
  {
   "cell_type": "markdown",
   "id": "e2dce8f0-4ab9-4c61-b303-ff25f372236e",
   "metadata": {},
   "source": [
    "# drop duplicate rows from dtaframe"
   ]
  },
  {
   "cell_type": "code",
   "execution_count": null,
   "id": "db9eb382-96d1-4fcc-9292-3e024483d374",
   "metadata": {},
   "outputs": [],
   "source": [
    "#drop duplicate rows from dtaframe:\n",
    "df.drop_duplicates()"
   ]
  },
  {
   "cell_type": "markdown",
   "id": "7e08e81c-14f8-484f-bf75-5528dc3fa385",
   "metadata": {},
   "source": [
    "# Retrieve Column Name:-"
   ]
  },
  {
   "cell_type": "code",
   "execution_count": 5,
   "id": "5bdf401e-fa11-4694-8af3-3e628c6cdddf",
   "metadata": {},
   "outputs": [
    {
     "name": "stdout",
     "output_type": "stream",
     "text": [
      "     Age  KCSE\n",
      "0   20.0  2016\n",
      "1    NaN  2010\n",
      "2    NaN  2015\n",
      "3    NaN  2016\n",
      "4   20.0  2016\n",
      "5   20.0  2016\n",
      "6   21.0  2016\n",
      "7   21.0  2016\n",
      "8   22.0  2015\n",
      "9   21.0  2015\n",
      "10  22.0  2016\n",
      "11  22.0  2015\n",
      "12  23.0  2015\n",
      "13  20.0  2016\n",
      "14  34.0  2012\n",
      "15  20.0  2016\n",
      "16  21.0  2016\n",
      "17  20.0  2016\n",
      "18   NaN  2016\n",
      "19  21.0  2018\n",
      "20  20.0  2017\n",
      "21  20.0  2016\n",
      "22  20.0  2017\n",
      "23  21.0  2016\n",
      "24  21.0  2016\n",
      "25  18.0  2014\n",
      "26  23.0  2015\n",
      "27  24.0  2015\n",
      "28  22.0  2016\n",
      "29  21.0  2089\n",
      "30  24.0  2015\n",
      "31   NaN  2016\n",
      "32  20.0  2016\n"
     ]
    }
   ],
   "source": [
    "import pandas as pd\n",
    "df=pd.read_csv(\"students_data.csv\")\n",
    "ndf=df[['Age','KCSE']]\n",
    "print(ndf)"
   ]
  },
  {
   "cell_type": "markdown",
   "id": "f96a13c6-f894-4923-9219-4b27c382e579",
   "metadata": {},
   "source": [
    "# only One Column name"
   ]
  },
  {
   "cell_type": "code",
   "execution_count": 6,
   "id": "2e8feaf3-e6c5-43a6-bdeb-0821db2a3061",
   "metadata": {},
   "outputs": [
    {
     "data": {
      "text/plain": [
       "0                  MATHEMATICS\n",
       "1     ECONOMICS AND STATISTICS\n",
       "2                  MATHEMATICS\n",
       "3     ECONOMICS AND STATISTICS\n",
       "4          APPLIED MATHEMATICS\n",
       "5               URBAN PLANNING\n",
       "6                  MATHEMATICS\n",
       "7                  MATHEMATICS\n",
       "8            ACTUARIAL SCIENCE\n",
       "9                    ECONOMICS\n",
       "10                 MATHEMATICS\n",
       "11                 MATHEMATICS\n",
       "12                 MATHEMATICS\n",
       "13         APPLIED MATHEMATICS\n",
       "14    ECONOMICS AND STATISTICS\n",
       "15                  STATISTICS\n",
       "16    ECONOMICS AND STATISTICS\n",
       "17         APPLIED MATHEMATICS\n",
       "18                  STATISTICS\n",
       "19                  STATISTICS\n",
       "20           ACTUARIAL SCIENCE\n",
       "21                 MATHEMATICS\n",
       "22           ACTUARIAL SCIENCE\n",
       "23      ELECTRICAL ENGINEERING\n",
       "24                 MATHEMATICS\n",
       "25                  STATISTICS\n",
       "26                 MATHEMATICS\n",
       "27                 MATHEMATICS\n",
       "28    ECONOMICS AND STATISTICS\n",
       "29                 MATHEMATICS\n",
       "30                 MATHEMATICS\n",
       "31                  STATISTICS\n",
       "32                 MATHEMATICS\n",
       "Name: Course, dtype: object"
      ]
     },
     "execution_count": 6,
     "metadata": {},
     "output_type": "execute_result"
    }
   ],
   "source": [
    "df.Course\n"
   ]
  },
  {
   "cell_type": "markdown",
   "id": "24b06e38-ad24-4b2e-a623-b7db86dedcb2",
   "metadata": {},
   "source": [
    "#  Graph"
   ]
  },
  {
   "cell_type": "code",
   "execution_count": 7,
   "id": "35b3e582-cf23-45d9-a059-9baa7e5adbb7",
   "metadata": {},
   "outputs": [
    {
     "data": {
      "image/png": "[encoded data removed]",
      "text/plain": [
       "<Figure size 640x480 with 1 Axes>"
      ]
     },
     "metadata": {},
     "output_type": "display_data"
    }
   ],
   "source": [
    "import matplotlib.pyplot as plt\n",
    "import numpy as np\n",
    "import pandas as pd\n",
    "\n",
    "file = pd.read_csv(\"prog_book.csv\")\n",
    "\n",
    "plt.plot(file['Rating'], color='blue')\n",
    "\n",
    "plt.xlabel('X-axis label')\n",
    "plt.ylabel('Y-axis label')\n",
    "plt.title('Book Program')\n",
    "\n",
    "# Show the plot\n",
    "plt.show()"
   ]
  },
  {
   "cell_type": "code",
   "execution_count": null,
   "id": "7147458e-f79a-4201-afdc-09b5098fdf47",
   "metadata": {},
   "outputs": [],
   "source": []
  }
 ],
 "metadata": {
  "kernelspec": {
   "display_name": "Python 3 (ipykernel)",
   "language": "python",
   "name": "python3"
  },
  "language_info": {
   "codemirror_mode": {
    "name": "ipython",
    "version": 3
   },
   "file_extension": ".py",
   "mimetype": "text/x-python",
   "name": "python",
   "nbconvert_exporter": "python",
   "pygments_lexer": "ipython3",
   "version": "3.9.13"
  }
 },
 "nbformat": 4,
 "nbformat_minor": 5
}
